{
 "cells": [
  {
   "cell_type": "markdown",
   "metadata": {
    "ExecuteTime": {
     "end_time": "2019-09-24T16:05:23.746666Z",
     "start_time": "2019-09-24T16:05:23.741461Z"
    }
   },
   "source": [
    "## EE 502 P: Analytical Methods for Electrical Engineering\n",
    "    \n",
    "# Homework 3: Real Analysis\n",
    "## Due 23 October, 2019 at 6:00 PM\n",
    "### <span style=\"color: red\">YOUR NAME HERE</span>\n",
    "\n",
    "Copyright &copy; 2019, University of Washington\n",
    "\n",
    "<hr>\n",
    "\n",
    "**Instructions**: Use this notebook as a template. Answer all questions using well formatted Markdown with embedded LaTeX equations, executable Jupyter cells, or both. Submit your homework solutions as an `.ipynb` file via Canvas.\n",
    "\n",
    "<span style=\"background: yellow; padding: 6px; border: 1pt solid black\">\n",
    "Although you may discuss the homework with others, you must turn in your own, original work.\n",
    "</span>\n",
    "\n",
    "**Things to remember:**\n",
    "- Use complete sentences. Equations should appear in text as grammatical elements.\n",
    "- Comment your code.\n",
    "- Label your axes. Title your plots. Use legends where appropriate. \n",
    "- Before submitting a notebook, choose Kernel -> Restart and Run All to make sure your notebook runs when the cells are evaluated in order. \n",
    "\n",
    "Note : Late homework will be accepted up to one week after the due date and will be worth 50% of its full credit score. "
   ]
  },
  {
   "cell_type": "markdown",
   "metadata": {},
   "source": [
    "### 0. Warmup (Do not turn in)\n",
    "\n",
    "- Make sure you get download, read, and run the notebook for lecture 3. Work through the notebook cell by cell and see what happens when you change the expressions, and make up some of your own.\n",
    "- The material covered in class is intended to be an introductory subset the general subject of Real Analysis, for example covered in the book [An Introduction to Real Analysis](https://www.math.ucdavis.edu/~hunter/intro_analysis_pdf/intro_analysis.html). You do not need to read all of this book (although doing so would be great), but you should at least read the following sections.\n",
    "  - [Chapter 3](https://www.math.ucdavis.edu/~hunter/intro_analysis_pdf/ch3.pdf), Sections 3.2, 3.3, and 3.4. You can skip the proofs if you want to. \n",
    "  - [Chapter 6](https://www.math.ucdavis.edu/~hunter/intro_analysis_pdf/ch6.pdf), Sections 6.1 and 6.3.\n",
    "  - [Chapter 7](https://www.math.ucdavis.edu/~hunter/intro_analysis_pdf/ch7.pdf), Sections 7.1, 7.2, and 7.6.\n",
    "  - [Chapter 8](https://www.math.ucdavis.edu/~hunter/intro_analysis_pdf/ch8.pdf), Sections 8.1, 8.2, 8.3, 8.5, 8.6, and 8.8.\n",
    "  - [Chapter 11](https://www.math.ucdavis.edu/~hunter/intro_analysis_pdf/ch11.pdf), Sections 11.1, 11.2, and 11.5.\n",
    "  \n",
    "  \n",
    "-  <span style=\"color: #F5793A;\">**Warning:** My notes attempt to make sure no concepts require other concepts that were not yet covered. However, if you just skim the above, you will likely encounter definitions that use other definitions in sections I did not suggest you read.</span>\n",
    "- If the textbook above is not clear to you, you might try looking at alternative textbooks, such as the [one by Jiri Lebl](https://www.jirka.org/ra/realanal.pdf).\n",
    "- If you would like to buy a textbook on real analysis, here are a few:\n",
    "  - [Rudin](https://www.amazon.com/Principles-Mathematical-Analysis-International-Mathematics/dp/007054235X). Very concise. \n",
    "  - [Strichartz](https://www.amazon.com/Analysis-Revised-Jones-Bartlett-Mathematics/dp/0763714976/ref=sr_1_1?keywords=Strichartz%27s+book+%22The+way+of+analysis&qid=1570552954&s=books&sr=1-1). Gentler.\n",
    "  - [Kolmogorov](https://www.amazon.com/Introductory-Analysis-Dover-Books-Mathematics/dp/0486612260/ref=sr_1_1?keywords=Kolmogorov+real+analysis&qid=1570553008&s=books&sr=1-1). A classic!"
   ]
  },
  {
   "cell_type": "markdown",
   "metadata": {
    "ExecuteTime": {
     "end_time": "2019-10-08T16:48:02.889303Z",
     "start_time": "2019-10-08T16:48:02.885366Z"
    }
   },
   "source": [
    "### 1. Sequences\n",
    "\n",
    "For each of the patterns below, define a formula for $n$th term $x_n$ of the sequence. Also, plot the first 20 terms of the sequences. Combine all three plots into a figure using the subplot command. Label everything.\n",
    "\n",
    "a) 5,7,9,11,...\n",
    "\n",
    "b) 1/2, 2/3, 3/4, 4/5, ...\n",
    "\n",
    "c) 1/2, -1/4, 1/8, -1/16, ...\n",
    "\n"
   ]
  },
  {
   "cell_type": "markdown",
   "metadata": {},
   "source": [
    "### 2. Sequence Convergence\n",
    "\n",
    "Show that the following sequence limits using either an $\\varepsilon-\\delta$ argument or **Thm 1** from the lecture notes. \n",
    "\n",
    "a) $\\lim \\frac{3n+1}{2n+5} = \\frac{3}{2}$\n",
    "\n",
    "b) $\\lim \\frac{2n}{n+2} = 2$\n",
    "\n",
    "c) $\\lim\\left(\\frac{1}{n} - \\frac{1}{n+1} \\right) = 0$"
   ]
  },
  {
   "cell_type": "markdown",
   "metadata": {},
   "source": [
    "### 3. Proving non-convergence\n",
    "\n",
    "Show that the sequence $(x_n)$ where $x_n = (-1)^n$ does not converge to any number $c$. Use the definition of limit for sequences. Given $\\varepsilon > 0$ you have to show that there does not exist an $m$ such that for all $n>m$ such that $c-\\varepsilon < x_n < c+\\varepsilon$. "
   ]
  },
  {
   "cell_type": "markdown",
   "metadata": {},
   "source": [
    "### 4. Sequences via recurrence relations\n",
    "\n",
    "Let $x_0 = 1$ and $x_{i+1} = - a x_i$ where $0 < a < 1$.\n",
    "\n",
    "a) Plot the first 20 points in $(x_n)$ when $a=\\frac{1}{2}$. \n",
    "\n",
    "b) Show that $(x_n)$ converges to 0. "
   ]
  },
  {
   "cell_type": "markdown",
   "metadata": {},
   "source": [
    "### 5. Continuous Functions\n",
    "\n",
    "Define the function $s$ by\n",
    "\n",
    "$$\n",
    "s(x) = \\left \\{\n",
    "\\begin{array}{ll}\n",
    "-1 & \\mathrm{if}\\;x<0 \\\\\n",
    "0 & \\mathrm{if}\\;x = 0 \\\\\n",
    "1 & \\mathrm{if}\\;x > 0\n",
    "\\end{array}\n",
    "\\right .\n",
    "$$\n",
    "\n",
    "a) Find a sequence $(x_n)$ converges to $0$ but where $(s(x_n))$ does not converge. Conclude that $s$ is not continuous at $0$. \n",
    "\n",
    "b) Show that $s$ is continuous at all other points in $\\mathbb{R}$."
   ]
  },
  {
   "cell_type": "markdown",
   "metadata": {
    "ExecuteTime": {
     "end_time": "2019-10-08T22:22:21.515713Z",
     "start_time": "2019-10-08T22:22:21.511746Z"
    },
    "collapsed": true
   },
   "source": [
    "### 6. Mean Value Theorem\n",
    "\n",
    "Suppose $f'(x) \\geq 0$ for all $x$. Use the intermediate value theorem to show that if $x_1 \\leq x_2$, then $f(x_1) \\leq f(x_2)$. "
   ]
  },
  {
   "cell_type": "markdown",
   "metadata": {},
   "source": [
    "### 7. Finding Roots Using the Bisection Method\n",
    "\n",
    "Write a function that implements the \"bisection method\" for finding the roots of function. The signature of your function should look like\n",
    "\n",
    "```python\n",
    "def find_root(f,a,b,n):\n",
    "```\n",
    "where $n$ is the maximum number of iterations of to search for the root.\n",
    "\n",
    "The code should follow this algorithm:\n",
    "\n",
    "- We are given a continuous function $f$ and numbers $a$ and $b$ and with $a < b$ with $f(a) < 0 < f(b)$. From the intermediate value theorem we know that there exists a $c$ with $a<c<b$ with $f(c) = 0$. We want to find $c$.\n",
    "\n",
    "- Set $a_1 = a$ and $b_1 = b$ and $m = \\frac{1}{2}(a+b)$. \n",
    "\n",
    "- For $i = 1$ to $n$ do\n",
    "    - If $f(m) = 0$, then $c = m$ so break and return $m$.\n",
    "    - Else If $f(m) > 0$ then set $a_{i+1} = a_i$ and $b_{i+1} = m$.\n",
    "    - Else If $f(m) < 0$, then set $a_{i+1} = m_i$ and $b_{i+1} = b_i$.\n",
    "\n",
    "\n",
    "- Return m\n",
    "\n",
    "Test on several examples, including one in which the first 'if' statement is true, and another where it is never true. Check your work by plotting the results."
   ]
  },
  {
   "cell_type": "markdown",
   "metadata": {},
   "source": [
    "### 8. Definition of Derivative\n",
    "\n",
    "Use the definition of the derivative to find the derivatives of the following functions.\n",
    "\n",
    "a) $f(x) = x^3$, for any $x$\n",
    "\n",
    "b) $g(x) = 1/x$, for $x \\neq 0$\n",
    "\n",
    "c) $h(x) = \\sqrt{x}$, for $x > 0$\n",
    "\n",
    "d) $k(x) = x^{-1/2}$ for $x > 0$."
   ]
  },
  {
   "cell_type": "markdown",
   "metadata": {},
   "source": [
    "### 9. The Chain Rule\n",
    "\n",
    "Use the chain rule to find these deriviatives. Verify your results with `sympy`.\n",
    "\n",
    "a) $f(x) = \\frac{1}{1+x^2}$\n",
    "\n",
    "b) $h(x) = (\\sin x^k)^m$ for $m,k \\in \\mathbb{N}$"
   ]
  },
  {
   "cell_type": "markdown",
   "metadata": {},
   "source": [
    "### 10. The Mean Value Theorem\n",
    "\n",
    "Use the mean value theorem to show that $|\\sin x - \\sin y| \\leq |x-y|$ for all $x,y \\in \\mathbb{R}$. \n",
    "\n",
    "Visualize this problem with a plot."
   ]
  },
  {
   "cell_type": "markdown",
   "metadata": {},
   "source": [
    "### 11. Taylor Approxmations\n",
    "\n",
    "Use `sympy` to find the Taylor Approximations to $\\sin x$ with 1 term, 2 terms, 3 terms, all the way up to 6 terms. Ignore the remainder term. Plot all of these approximations along with $\\sin x$ on the same plot, showing the approximations get better and better. "
   ]
  },
  {
   "cell_type": "markdown",
   "metadata": {},
   "source": [
    "### 12. Showing Inequalities With Taylor's Approximation.\n",
    "\n",
    "Show that if $x>0$ then $1 + \\frac{1}{2}x - \\frac{1}{8}x^2 \\leq \\sqrt{1+x} \\leq 1 + \\frac{1}{2}x$. Hint, break this into two steps, one for each inequality. For the first step, use the first three terms of the Taylor approximation and a residual term that is cubic. For the second inequality, use the first two terms of the Taylor approximation and a residual term that is a square. Make sure to explain each step of your argument.\n",
    "\n",
    "How good is this approximation for $\\sqrt{2}$? How about $\\sqrt{3}$? \n",
    "\n",
    "Visualize this problem by making a plot showing the relationship of the three expressions as $x$ increases."
   ]
  },
  {
   "cell_type": "markdown",
   "metadata": {},
   "source": [
    "### 13. L'Hospital's Rule\n",
    "\n",
    "Find expressions whose limits exist and correspond to each of the cases $0/0$, $\\infty/\\infty$, and $0^0$. Use `sympy` to evaluate these limits to show that it knows how to use L'Hospital's rule."
   ]
  },
  {
   "cell_type": "markdown",
   "metadata": {},
   "source": [
    "### 14. Integral Approximation\n",
    "\n",
    "a) Consider the function $f(x) = \\sin(x) / x$ over the domain $[1,9]$. Make a plot similar to the following that shows how to approximate the function with a set of $n = 20$ rectangles. The rectangles should have width $dx = (b-a)/n$ and heights $f(a), \\; f(a+dx), \\; f(a+2dx), \\dots$. \n",
    "\n",
    "![integral-approx](https://raw.githubusercontent.com/klavins/EE502P/master/imgaes/integral-approx.png)\n",
    "\n",
    "b) Write a Python function that takes a function `f`, a starting point `a`, an ending point `b`, and a positive integer `n` and returns the approximation of the integral $\\int_a^b f(x)dx$ that uses $n$ rectangles as defined in part (a). The signature of your function should look like\n",
    "\n",
    "```python\n",
    "def approx(f,a,b,n):\n",
    "```\n",
    "\n",
    "Demonstrate your function with the $f$ in part (a). \n",
    "\n",
    "c) Make a plot of `approx(f,a,b,n)` for $n = 1 \\; \\mathrm{to} \\; 100$. Use `sympy` to evaluate the actual integral. To which value of $n$ is the integral accurate to 5 decimal places?\n",
    "\n",
    "d) Use your function to make successive approximations to the integral $\\int_0^1 \\frac{1}{x} dx$ for $n=1$ to $20$, illustrating that the sequence does not converge.  "
   ]
  },
  {
   "cell_type": "code",
   "execution_count": null,
   "metadata": {
    "collapsed": true
   },
   "outputs": [],
   "source": []
  }
 ],
 "metadata": {
  "kernelspec": {
   "display_name": "Python 3",
   "language": "python",
   "name": "python3"
  },
  "language_info": {
   "codemirror_mode": {
    "name": "ipython",
    "version": 3
   },
   "file_extension": ".py",
   "mimetype": "text/x-python",
   "name": "python",
   "nbconvert_exporter": "python",
   "pygments_lexer": "ipython3",
   "version": "3.6.1"
  }
 },
 "nbformat": 4,
 "nbformat_minor": 2
}
